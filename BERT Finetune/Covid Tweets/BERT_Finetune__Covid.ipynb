{
  "nbformat": 4,
  "nbformat_minor": 0,
  "metadata": {
    "colab": {
      "name": "BERT_Finetune _Covid.ipynb",
      "provenance": []
    },
    "kernelspec": {
      "name": "python3",
      "display_name": "Python 3"
    },
    "language_info": {
      "name": "python"
    },
    "gpuClass": "standard",
    "accelerator": "GPU"
  },
  "cells": [
    {
      "cell_type": "code",
      "source": [
        "# pip install transformers"
      ],
      "metadata": {
        "id": "W-7CXEhlCpjY"
      },
      "execution_count": null,
      "outputs": []
    },
    {
      "cell_type": "code",
      "execution_count": null,
      "metadata": {
        "id": "jb7bhRIcCHeo"
      },
      "outputs": [],
      "source": [
        "import pandas as pd\n",
        "import numpy as np\n",
        "import torch\n",
        "import re\n",
        "from transformers import AutoTokenizer\n",
        "from transformers import BertTokenizer"
      ]
    },
    {
      "cell_type": "code",
      "source": [
        "# setting up GPU\n",
        "if torch.cuda.is_available():\n",
        "    device = torch.device('cuda')\n",
        "else:\n",
        "    device = torch.device('cpu')"
      ],
      "metadata": {
        "id": "0DxxHAPMENS7"
      },
      "execution_count": null,
      "outputs": []
    },
    {
      "cell_type": "code",
      "source": [
        "# reading the dataset\n",
        "df = pd.read_csv('/content/drive/MyDrive/cov-tweets.csv', encoding='cp1252')"
      ],
      "metadata": {
        "id": "e5uCRZ28Erk1"
      },
      "execution_count": null,
      "outputs": []
    },
    {
      "cell_type": "code",
      "source": [
        "df['label'] = df['label'].replace([1],0)\n",
        "df['label'] = df['label'].replace([2],1)\n",
        "df['label'] = df['label'].replace([3],2)"
      ],
      "metadata": {
        "id": "5JwlsqcXUCBG"
      },
      "execution_count": null,
      "outputs": []
    },
    {
      "cell_type": "code",
      "source": [
        "sentences = df.tweet_text\n",
        "label = df.label"
      ],
      "metadata": {
        "id": "4MY3CSFvDosr"
      },
      "execution_count": null,
      "outputs": []
    },
    {
      "cell_type": "code",
      "source": [
        "from sklearn.model_selection import train_test_split\n",
        "x_train, x_test, y_train, y_test = train_test_split(sentences, label, test_size = 0.1)"
      ],
      "metadata": {
        "id": "oG9pbzzvkgb0"
      },
      "execution_count": null,
      "outputs": []
    },
    {
      "cell_type": "code",
      "source": [
        "del sentences\n",
        "del label"
      ],
      "metadata": {
        "id": "wFOgeSLVlDui"
      },
      "execution_count": null,
      "outputs": []
    },
    {
      "cell_type": "code",
      "source": [
        "tokenizer = BertTokenizer.from_pretrained('bert-base-uncased', do_lower_case = True)"
      ],
      "metadata": {
        "id": "sUIRFqJqFOaB"
      },
      "execution_count": null,
      "outputs": []
    },
    {
      "cell_type": "code",
      "source": [
        "x_train = list(x_train)\n",
        "y_train = list(y_train)\n",
        "\n",
        "x_test = list(x_test)\n",
        "y_test = list(y_test)"
      ],
      "metadata": {
        "id": "sLutuwCel8yS"
      },
      "execution_count": null,
      "outputs": []
    },
    {
      "cell_type": "code",
      "source": [
        "for i in range(len(x_train)):\n",
        "    x_train[i] = x_train[i][:-25]"
      ],
      "metadata": {
        "id": "qu5iFTK5I6a-"
      },
      "execution_count": null,
      "outputs": []
    },
    {
      "cell_type": "code",
      "source": [
        "print('Original sentence :', x_train[2])\n",
        "print('Tokenized :', tokenizer.tokenize(x_train[2]))\n",
        "print('Tokens with ID:', tokenizer.convert_tokens_to_ids(tokenizer.tokenize(x_train[2])))"
      ],
      "metadata": {
        "colab": {
          "base_uri": "https://localhost:8080/"
        },
        "id": "Ra1EyAXtFhYf",
        "outputId": "c93906cd-2373-41fa-e085-9c2b21adcad8"
      },
      "execution_count": null,
      "outputs": [
        {
          "output_type": "stream",
          "name": "stdout",
          "text": [
            "Original sentence : Pro Tip: If you cry a little when you get your covid vaccine they’ll give you a sticker and a sucker for being such a “big girl” #COVID\n",
            "Tokenized : ['pro', 'tip', ':', 'if', 'you', 'cry', 'a', 'little', 'when', 'you', 'get', 'your', 'co', '##vid', 'vaccine', 'they', '’', 'll', 'give', 'you', 'a', 'stick', '##er', 'and', 'a', 'sucker', 'for', 'being', 'such', 'a', '“', 'big', 'girl', '”', '#', 'co', '##vid']\n",
            "Tokens with ID: [4013, 5955, 1024, 2065, 2017, 5390, 1037, 2210, 2043, 2017, 2131, 2115, 2522, 17258, 17404, 2027, 1521, 2222, 2507, 2017, 1037, 6293, 2121, 1998, 1037, 26476, 2005, 2108, 2107, 1037, 1523, 2502, 2611, 1524, 1001, 2522, 17258]\n"
          ]
        }
      ]
    },
    {
      "cell_type": "code",
      "source": [
        "max_len = 0\n",
        "for sentence in x_train:\n",
        "    input_ids = tokenizer.encode(sentence, add_special_tokens=True)\n",
        "    max_len = max(max_len, len(input_ids))\n",
        "print('Max sentence length: ', max_len)"
      ],
      "metadata": {
        "colab": {
          "base_uri": "https://localhost:8080/"
        },
        "id": "aDO77Oa4M8Pp",
        "outputId": "744e7a02-9dee-4b4b-b592-eda0018c8d4c"
      },
      "execution_count": null,
      "outputs": [
        {
          "output_type": "stream",
          "name": "stdout",
          "text": [
            "Max sentence length:  337\n"
          ]
        }
      ]
    },
    {
      "cell_type": "code",
      "source": [
        "input_ids = []\n",
        "attention_mask = []\n",
        "for sentence in x_train:\n",
        "    encoded_dict = tokenizer.encode_plus(\n",
        "        sentence,\n",
        "        add_special_tokens = True,\n",
        "        max_length = 300,\n",
        "        truncation = True,\n",
        "        padding = 'max_length',\n",
        "        return_attention_mask = True,\n",
        "        return_tensors = 'pt'\n",
        "    )\n",
        "    input_ids.append(encoded_dict['input_ids'])\n",
        "    attention_mask.append(encoded_dict['attention_mask'])\n",
        "\n",
        "input_ids = torch.cat(input_ids, dim=0)\n",
        "attention_masks = torch.cat(attention_mask, dim=0)\n",
        "label = torch.tensor(y_train)"
      ],
      "metadata": {
        "id": "c5G61STqOVEE"
      },
      "execution_count": null,
      "outputs": []
    },
    {
      "cell_type": "code",
      "source": [
        "from torch.utils.data import TensorDataset, random_split\n",
        "dataset = TensorDataset(input_ids, attention_masks, label)\n",
        "train_size = int(0.9*len(dataset))\n",
        "val_size = len(dataset) - train_size\n",
        "train_data, val_data = random_split(dataset, [train_size, val_size])"
      ],
      "metadata": {
        "id": "SJ1x9rX7PsNc"
      },
      "execution_count": null,
      "outputs": []
    },
    {
      "cell_type": "code",
      "source": [
        "from torch.utils.data import DataLoader, RandomSampler, SequentialSampler\n",
        "batch_size = 32\n",
        "train_dataloader = DataLoader(train_data,\n",
        "                              sampler = RandomSampler(train_data),\n",
        "                              batch_size = batch_size)\n",
        "\n",
        "val_dataloader = DataLoader(val_data,\n",
        "                             sampler = SequentialSampler(val_data),\n",
        "                            batch_size = batch_size)"
      ],
      "metadata": {
        "id": "k3KsZsRoQgtu"
      },
      "execution_count": null,
      "outputs": []
    },
    {
      "cell_type": "code",
      "source": [
        "from transformers import BertForSequenceClassification, AdamW, BertConfig\n",
        "model = BertForSequenceClassification.from_pretrained(\n",
        "    'bert-base-uncased',\n",
        "    num_labels = 3,\n",
        "    output_attentions = False,\n",
        "    output_hidden_states = False\n",
        ")\n",
        "model.cuda();"
      ],
      "metadata": {
        "colab": {
          "base_uri": "https://localhost:8080/"
        },
        "id": "qPCb9JAFTGxB",
        "outputId": "6a613d65-fd77-454f-e8a8-c75cd7dd6541"
      },
      "execution_count": null,
      "outputs": [
        {
          "output_type": "stream",
          "name": "stderr",
          "text": [
            "Some weights of the model checkpoint at bert-base-uncased were not used when initializing BertForSequenceClassification: ['cls.predictions.transform.dense.bias', 'cls.seq_relationship.weight', 'cls.predictions.transform.LayerNorm.bias', 'cls.predictions.bias', 'cls.seq_relationship.bias', 'cls.predictions.transform.LayerNorm.weight', 'cls.predictions.decoder.weight', 'cls.predictions.transform.dense.weight']\n",
            "- This IS expected if you are initializing BertForSequenceClassification from the checkpoint of a model trained on another task or with another architecture (e.g. initializing a BertForSequenceClassification model from a BertForPreTraining model).\n",
            "- This IS NOT expected if you are initializing BertForSequenceClassification from the checkpoint of a model that you expect to be exactly identical (initializing a BertForSequenceClassification model from a BertForSequenceClassification model).\n",
            "Some weights of BertForSequenceClassification were not initialized from the model checkpoint at bert-base-uncased and are newly initialized: ['classifier.weight', 'classifier.bias']\n",
            "You should probably TRAIN this model on a down-stream task to be able to use it for predictions and inference.\n"
          ]
        }
      ]
    },
    {
      "cell_type": "code",
      "source": [
        "optimizer = AdamW(model.parameters(), lr = 2e-5, eps = 1e-8)"
      ],
      "metadata": {
        "id": "WRo63w6gT0gZ",
        "colab": {
          "base_uri": "https://localhost:8080/"
        },
        "outputId": "abd8f9e6-330e-4653-c2b9-b0b1128a3ce0"
      },
      "execution_count": null,
      "outputs": [
        {
          "output_type": "stream",
          "name": "stderr",
          "text": [
            "/usr/local/lib/python3.7/dist-packages/transformers/optimization.py:310: FutureWarning: This implementation of AdamW is deprecated and will be removed in a future version. Use the PyTorch implementation torch.optim.AdamW instead, or set `no_deprecation_warning=True` to disable this warning\n",
            "  FutureWarning,\n"
          ]
        }
      ]
    },
    {
      "cell_type": "code",
      "source": [
        "from transformers import get_linear_schedule_with_warmup\n",
        "epochs = 4\n",
        "total_steps = len(train_dataloader)*epochs\n",
        "scheduler = get_linear_schedule_with_warmup(optimizer,\n",
        "                                            num_warmup_steps = 0,\n",
        "                                            num_training_steps = total_steps)"
      ],
      "metadata": {
        "id": "vuoXZPMwTjmJ"
      },
      "execution_count": null,
      "outputs": []
    },
    {
      "cell_type": "code",
      "source": [
        "def flat_accuracy(preds, labels):\n",
        "    pred_flat = np.argmax(preds, axis=1).flatten()\n",
        "    labels_flat = labels.flatten()\n",
        "    return np.sum(pred_flat == labels_flat) / len(labels_flat)"
      ],
      "metadata": {
        "id": "DLDG86htUkXN"
      },
      "execution_count": null,
      "outputs": []
    },
    {
      "cell_type": "code",
      "source": [
        "import time\n",
        "import random\n",
        "seed_value = 42\n",
        "random.seed(seed_value)\n",
        "np.random.seed(seed_value)\n",
        "torch.manual_seed(seed_value)\n",
        "torch.cuda.manual_seed_all(seed_value)"
      ],
      "metadata": {
        "id": "AfW6BldiaVKS"
      },
      "execution_count": null,
      "outputs": []
    },
    {
      "cell_type": "code",
      "source": [
        "training_stats = []\n",
        "start_time = time.time()\n",
        "\n",
        "for epoch_i in range(epochs):\n",
        "    print(\"\")\n",
        "    print('======== Epoch {:} / {:} ========'.format(epoch_i + 1, epochs))\n",
        "    print('Training...')\n",
        "\n",
        "    t0_epoch = time.time()\n",
        "    total_train_loss = 0\n",
        "\n",
        "    model.train()\n",
        "    for step, batch in enumerate(train_dataloader):\n",
        "        if step%40 == 0 and not step == 0:\n",
        "            print(f'Batch {step} of {len(train_dataloader)} -- Elapsed {time.time() - t0_epoch}')\n",
        "        batch_input_ids = batch[0].to(device)\n",
        "        batch_attention_mask = batch[1].to(device)\n",
        "        batch_labels = batch[2].to(device)\n",
        "        model.zero_grad()\n",
        "        opt = model(batch_input_ids,\n",
        "                             token_type_ids = None,\n",
        "                             attention_mask = batch_attention_mask,\n",
        "                             labels = batch_labels)\n",
        "        loss, logits = opt.loss, opt.logits\n",
        "        total_train_loss = total_train_loss + loss\n",
        "        loss.backward()\n",
        "        torch.nn.utils.clip_grad_norm_(model.parameters(), 1.0)\n",
        "        optimizer.step()\n",
        "        scheduler.step()\n",
        "    avg_train_loss = total_train_loss / len(train_dataloader)\n",
        "    epoch_train_time = time.time() - t0_epoch\n",
        "\n",
        "    print(\"\")\n",
        "    print(\"  Average training loss: {0:.2f}\".format(avg_train_loss))\n",
        "    print(\"  Training epcoh took: {:}\".format(epoch_train_time))\n",
        "\n",
        "    print(\"\")\n",
        "    print(\"Running Validation...\")\n",
        "\n",
        "    t0_val = time.time()\n",
        "    model.eval()\n",
        "    total_eval_accuracy = 0\n",
        "    total_eval_loss = 0\n",
        "    nb_eval_steps = 0\n",
        "    try:\n",
        "        for batch in val_dataloader:\n",
        "            batch_input_ids = batch[0].to(device)\n",
        "            batch_attention_mask = batch[1].to(device)\n",
        "            batch_labels = batch[2].to(device)\n",
        "        \n",
        "            with torch.no_grad():\n",
        "                eval_op = model(batch_input_ids,\n",
        "                                token_type_ids = None,\n",
        "                                attention_mask = batch_attention_mask,\n",
        "                                labels = batch_labels)\n",
        "                (loss, logits) = eval_op.loss, eval_op.logits\n",
        "                total_eval_loss = total_eval_loss + loss\n",
        "                logits = logits.detach().cpu().numpy()\n",
        "                label_ids = batch_labels.to('cpu').numpy()\n",
        "                total_eval_accuracy = total_eval_accuracy + flat_accuracy(logits,\n",
        "                                                                        label_ids)\n",
        "        avg_val_loss = total_eval_loss / len(val_dataloader)\n",
        "        avg_val_accuracy = total_eval_accuracy / len(val_dataloader)\n",
        "        validation_time = time.time() - t0_val\n",
        "\n",
        "        print(\"  Validation Loss: {0:.2f}\".format(avg_val_loss))\n",
        "        print(\"  Validation took: {:}\".format(validation_time))\n",
        "    \n",
        "\n",
        "        training_stats.append(\n",
        "            {'epoch': epoch_i,\n",
        "            'Training_loss': avg_train_loss,\n",
        "            'Val Loss': avg_val_loss,\n",
        "            'Val Acc': avg_val_accuracy,\n",
        "            'Training_Time': epoch_train_time,\n",
        "            'Val Time': validation_time\n",
        "            }\n",
        "        )\n",
        "    except IndexError:\n",
        "        pass\n",
        "\n",
        "print(\"\")\n",
        "print(\"Training complete!\")"
      ],
      "metadata": {
        "colab": {
          "base_uri": "https://localhost:8080/"
        },
        "id": "RXXOG5V0W7F3",
        "outputId": "46f1ce77-ae77-440b-f42e-90efcd0efc7e"
      },
      "execution_count": null,
      "outputs": [
        {
          "output_type": "stream",
          "name": "stdout",
          "text": [
            "\n",
            "======== Epoch 1 / 4 ========\n",
            "Training...\n",
            "Batch 40 of 152 -- Elapsed 62.53574299812317\n",
            "Batch 80 of 152 -- Elapsed 124.70173072814941\n",
            "Batch 120 of 152 -- Elapsed 187.33908700942993\n",
            "\n",
            "  Average training loss: 0.72\n",
            "  Training epcoh took: 237.16557550430298\n",
            "\n",
            "Running Validation...\n",
            "  Validation Loss: 0.59\n",
            "  Validation took: 10.028271675109863\n",
            "\n",
            "======== Epoch 2 / 4 ========\n",
            "Training...\n",
            "Batch 40 of 152 -- Elapsed 62.44572615623474\n",
            "Batch 80 of 152 -- Elapsed 124.84776711463928\n",
            "Batch 120 of 152 -- Elapsed 187.34436511993408\n",
            "\n",
            "  Average training loss: 0.53\n",
            "  Training epcoh took: 237.123859167099\n",
            "\n",
            "Running Validation...\n",
            "  Validation Loss: 0.54\n",
            "  Validation took: 9.997282266616821\n",
            "\n",
            "======== Epoch 3 / 4 ========\n",
            "Training...\n",
            "Batch 40 of 152 -- Elapsed 62.48208498954773\n",
            "Batch 80 of 152 -- Elapsed 125.01762819290161\n",
            "Batch 120 of 152 -- Elapsed 187.52911520004272\n",
            "\n",
            "  Average training loss: 0.40\n",
            "  Training epcoh took: 237.31674718856812\n",
            "\n",
            "Running Validation...\n",
            "  Validation Loss: 0.57\n",
            "  Validation took: 9.987187385559082\n",
            "\n",
            "======== Epoch 4 / 4 ========\n",
            "Training...\n",
            "Batch 40 of 152 -- Elapsed 62.369657039642334\n",
            "Batch 80 of 152 -- Elapsed 124.73149585723877\n",
            "Batch 120 of 152 -- Elapsed 187.24845361709595\n",
            "\n",
            "  Average training loss: 0.32\n",
            "  Training epcoh took: 237.03353476524353\n",
            "\n",
            "Running Validation...\n",
            "  Validation Loss: 0.55\n",
            "  Validation took: 10.012484073638916\n",
            "\n",
            "Training complete!\n"
          ]
        }
      ]
    },
    {
      "cell_type": "code",
      "source": [
        "training_metrics = pd.DataFrame(training_stats)\n",
        "training_metrics['Training_loss'] = [float(x) for x in training_metrics['Training_loss']]\n",
        "training_metrics['Val Loss'] = [float(x) for x in training_metrics['Val Loss']]\n",
        "training_metrics.head()"
      ],
      "metadata": {
        "colab": {
          "base_uri": "https://localhost:8080/",
          "height": 175
        },
        "id": "oI16dPGmiJLK",
        "outputId": "9a981874-242d-44c6-b32a-c29b7ddbfc74"
      },
      "execution_count": null,
      "outputs": [
        {
          "output_type": "execute_result",
          "data": {
            "text/plain": [
              "   epoch  Training_loss  Val Loss   Val Acc  Training_Time   Val Time\n",
              "0      0       0.720453  0.588562  0.742384     237.165576  10.028272\n",
              "1      1       0.526114  0.539500  0.769958     237.123859   9.997282\n",
              "2      2       0.401832  0.569485  0.771534     237.316747   9.987187\n",
              "3      3       0.323315  0.554209  0.793592     237.033535  10.012484"
            ],
            "text/html": [
              "\n",
              "  <div id=\"df-8c712831-eb19-4185-ace7-f7ae28474d74\">\n",
              "    <div class=\"colab-df-container\">\n",
              "      <div>\n",
              "<style scoped>\n",
              "    .dataframe tbody tr th:only-of-type {\n",
              "        vertical-align: middle;\n",
              "    }\n",
              "\n",
              "    .dataframe tbody tr th {\n",
              "        vertical-align: top;\n",
              "    }\n",
              "\n",
              "    .dataframe thead th {\n",
              "        text-align: right;\n",
              "    }\n",
              "</style>\n",
              "<table border=\"1\" class=\"dataframe\">\n",
              "  <thead>\n",
              "    <tr style=\"text-align: right;\">\n",
              "      <th></th>\n",
              "      <th>epoch</th>\n",
              "      <th>Training_loss</th>\n",
              "      <th>Val Loss</th>\n",
              "      <th>Val Acc</th>\n",
              "      <th>Training_Time</th>\n",
              "      <th>Val Time</th>\n",
              "    </tr>\n",
              "  </thead>\n",
              "  <tbody>\n",
              "    <tr>\n",
              "      <th>0</th>\n",
              "      <td>0</td>\n",
              "      <td>0.720453</td>\n",
              "      <td>0.588562</td>\n",
              "      <td>0.742384</td>\n",
              "      <td>237.165576</td>\n",
              "      <td>10.028272</td>\n",
              "    </tr>\n",
              "    <tr>\n",
              "      <th>1</th>\n",
              "      <td>1</td>\n",
              "      <td>0.526114</td>\n",
              "      <td>0.539500</td>\n",
              "      <td>0.769958</td>\n",
              "      <td>237.123859</td>\n",
              "      <td>9.997282</td>\n",
              "    </tr>\n",
              "    <tr>\n",
              "      <th>2</th>\n",
              "      <td>2</td>\n",
              "      <td>0.401832</td>\n",
              "      <td>0.569485</td>\n",
              "      <td>0.771534</td>\n",
              "      <td>237.316747</td>\n",
              "      <td>9.987187</td>\n",
              "    </tr>\n",
              "    <tr>\n",
              "      <th>3</th>\n",
              "      <td>3</td>\n",
              "      <td>0.323315</td>\n",
              "      <td>0.554209</td>\n",
              "      <td>0.793592</td>\n",
              "      <td>237.033535</td>\n",
              "      <td>10.012484</td>\n",
              "    </tr>\n",
              "  </tbody>\n",
              "</table>\n",
              "</div>\n",
              "      <button class=\"colab-df-convert\" onclick=\"convertToInteractive('df-8c712831-eb19-4185-ace7-f7ae28474d74')\"\n",
              "              title=\"Convert this dataframe to an interactive table.\"\n",
              "              style=\"display:none;\">\n",
              "        \n",
              "  <svg xmlns=\"http://www.w3.org/2000/svg\" height=\"24px\"viewBox=\"0 0 24 24\"\n",
              "       width=\"24px\">\n",
              "    <path d=\"M0 0h24v24H0V0z\" fill=\"none\"/>\n",
              "    <path d=\"M18.56 5.44l.94 2.06.94-2.06 2.06-.94-2.06-.94-.94-2.06-.94 2.06-2.06.94zm-11 1L8.5 8.5l.94-2.06 2.06-.94-2.06-.94L8.5 2.5l-.94 2.06-2.06.94zm10 10l.94 2.06.94-2.06 2.06-.94-2.06-.94-.94-2.06-.94 2.06-2.06.94z\"/><path d=\"M17.41 7.96l-1.37-1.37c-.4-.4-.92-.59-1.43-.59-.52 0-1.04.2-1.43.59L10.3 9.45l-7.72 7.72c-.78.78-.78 2.05 0 2.83L4 21.41c.39.39.9.59 1.41.59.51 0 1.02-.2 1.41-.59l7.78-7.78 2.81-2.81c.8-.78.8-2.07 0-2.86zM5.41 20L4 18.59l7.72-7.72 1.47 1.35L5.41 20z\"/>\n",
              "  </svg>\n",
              "      </button>\n",
              "      \n",
              "  <style>\n",
              "    .colab-df-container {\n",
              "      display:flex;\n",
              "      flex-wrap:wrap;\n",
              "      gap: 12px;\n",
              "    }\n",
              "\n",
              "    .colab-df-convert {\n",
              "      background-color: #E8F0FE;\n",
              "      border: none;\n",
              "      border-radius: 50%;\n",
              "      cursor: pointer;\n",
              "      display: none;\n",
              "      fill: #1967D2;\n",
              "      height: 32px;\n",
              "      padding: 0 0 0 0;\n",
              "      width: 32px;\n",
              "    }\n",
              "\n",
              "    .colab-df-convert:hover {\n",
              "      background-color: #E2EBFA;\n",
              "      box-shadow: 0px 1px 2px rgba(60, 64, 67, 0.3), 0px 1px 3px 1px rgba(60, 64, 67, 0.15);\n",
              "      fill: #174EA6;\n",
              "    }\n",
              "\n",
              "    [theme=dark] .colab-df-convert {\n",
              "      background-color: #3B4455;\n",
              "      fill: #D2E3FC;\n",
              "    }\n",
              "\n",
              "    [theme=dark] .colab-df-convert:hover {\n",
              "      background-color: #434B5C;\n",
              "      box-shadow: 0px 1px 3px 1px rgba(0, 0, 0, 0.15);\n",
              "      filter: drop-shadow(0px 1px 2px rgba(0, 0, 0, 0.3));\n",
              "      fill: #FFFFFF;\n",
              "    }\n",
              "  </style>\n",
              "\n",
              "      <script>\n",
              "        const buttonEl =\n",
              "          document.querySelector('#df-8c712831-eb19-4185-ace7-f7ae28474d74 button.colab-df-convert');\n",
              "        buttonEl.style.display =\n",
              "          google.colab.kernel.accessAllowed ? 'block' : 'none';\n",
              "\n",
              "        async function convertToInteractive(key) {\n",
              "          const element = document.querySelector('#df-8c712831-eb19-4185-ace7-f7ae28474d74');\n",
              "          const dataTable =\n",
              "            await google.colab.kernel.invokeFunction('convertToInteractive',\n",
              "                                                     [key], {});\n",
              "          if (!dataTable) return;\n",
              "\n",
              "          const docLinkHtml = 'Like what you see? Visit the ' +\n",
              "            '<a target=\"_blank\" href=https://colab.research.google.com/notebooks/data_table.ipynb>data table notebook</a>'\n",
              "            + ' to learn more about interactive tables.';\n",
              "          element.innerHTML = '';\n",
              "          dataTable['output_type'] = 'display_data';\n",
              "          await google.colab.output.renderOutput(dataTable, element);\n",
              "          const docLink = document.createElement('div');\n",
              "          docLink.innerHTML = docLinkHtml;\n",
              "          element.appendChild(docLink);\n",
              "        }\n",
              "      </script>\n",
              "    </div>\n",
              "  </div>\n",
              "  "
            ]
          },
          "metadata": {},
          "execution_count": 23
        }
      ]
    },
    {
      "cell_type": "code",
      "source": [
        "import matplotlib.pyplot as plt\n",
        "import seaborn as sns\n",
        "sns.set(style='darkgrid')\n",
        "plt.plot(training_metrics['Training_loss'], 'b-o', label=\"Training\")\n",
        "plt.plot(training_metrics['Val Loss'], 'g-o', label=\"Validation\")\n",
        "plt.title(\"Training & Validation Loss\")\n",
        "plt.xlabel(\"Epoch\")\n",
        "plt.ylabel(\"Loss\")\n",
        "plt.legend()\n",
        "plt.xticks([0, 1, 2, 3])\n",
        "plt.show();"
      ],
      "metadata": {
        "colab": {
          "base_uri": "https://localhost:8080/",
          "height": 301
        },
        "id": "6aA6_zfrjEm8",
        "outputId": "ff0b029e-ab1c-4d48-9315-00bb76148ded"
      },
      "execution_count": null,
      "outputs": [
        {
          "output_type": "display_data",
          "data": {
            "text/plain": [
              "<Figure size 432x288 with 1 Axes>"
            ],
            "image/png": "[encoded data removed]"
          },
          "metadata": {}
        }
      ]
    },
    {
      "cell_type": "code",
      "source": [
        "input_ids_test = []\n",
        "attention_mask_test = []\n",
        "for sentence in x_test:\n",
        "    encoded_dict = tokenizer.encode_plus(\n",
        "        sentence,\n",
        "        add_special_tokens = True,\n",
        "        max_length = 64,\n",
        "        truncation = True,\n",
        "        padding = 'max_length',\n",
        "        return_attention_mask = True,\n",
        "        return_tensors = 'pt'\n",
        "    )\n",
        "    input_ids_test.append(encoded_dict['input_ids'])\n",
        "    attention_mask_test.append(encoded_dict['attention_mask'])\n",
        "\n",
        "input_ids_test = torch.cat(input_ids_test, dim=0)\n",
        "attention_masks_test = torch.cat(attention_mask_test, dim=0)\n",
        "label_test = torch.tensor(y_test)\n",
        "\n",
        "batch_size = 32\n",
        "prediction_dataset = TensorDataset(input_ids_test, attention_masks_test, label_test)\n",
        "prediction_dataloader = DataLoader(prediction_dataset,\n",
        "                             sampler = SequentialSampler(val_data),\n",
        "                            batch_size = batch_size)"
      ],
      "metadata": {
        "id": "1JUIsPAYjdY5"
      },
      "execution_count": null,
      "outputs": []
    },
    {
      "cell_type": "code",
      "source": [
        "model.eval()\n",
        "predictions = []\n",
        "true_labels = []\n",
        "for batch in prediction_dataloader:\n",
        "    b_input_ids = batch[0].to(device)\n",
        "    b_attention_mask = batch[1].to(device)\n",
        "    b_labels = batch[2].to(device)\n",
        "    with torch.no_grad():\n",
        "        outputs = model(b_input_ids, \n",
        "                        token_type_ids = None,\n",
        "                        attention_mask = b_attention_mask)\n",
        "    logits = outputs.logits\n",
        "    logits = logits.detach().cpu().numpy()\n",
        "    label_ids = b_labels.to('cpu').numpy()\n",
        "\n",
        "    predictions.append(logits)\n",
        "    true_labels.append(label_ids)\n",
        "\n",
        "print('..DONE')"
      ],
      "metadata": {
        "colab": {
          "base_uri": "https://localhost:8080/"
        },
        "id": "2yhYW6rkoYdQ",
        "outputId": "e0700295-25f8-4974-ca22-d4d8d8e7cc19"
      },
      "execution_count": null,
      "outputs": [
        {
          "output_type": "stream",
          "name": "stdout",
          "text": [
            "..DONE\n"
          ]
        }
      ]
    },
    {
      "cell_type": "code",
      "source": [
        "yhat = []\n",
        "for pred in predictions:\n",
        "    pred_i = np.argmax(pred, axis=1).flatten()\n",
        "    yhat.append(pred_i)"
      ],
      "metadata": {
        "id": "ZGTf0xtzpS9G"
      },
      "execution_count": null,
      "outputs": []
    },
    {
      "cell_type": "code",
      "source": [
        "true_labels_ = []\n",
        "for t in true_labels:\n",
        "    true_labels_.append(t.flatten())"
      ],
      "metadata": {
        "id": "JAMYTQKlqECt"
      },
      "execution_count": null,
      "outputs": []
    },
    {
      "cell_type": "code",
      "source": [
        "from sklearn.metrics import accuracy_score\n",
        "for (true, infer) in zip(true_labels_, yhat):\n",
        "    print(accuracy_score(true, infer))"
      ],
      "metadata": {
        "colab": {
          "base_uri": "https://localhost:8080/"
        },
        "id": "6bv_byJ3qOxg",
        "outputId": "9b51575f-47e4-49c5-d950-3bb4dfa101fa"
      },
      "execution_count": null,
      "outputs": [
        {
          "output_type": "stream",
          "name": "stdout",
          "text": [
            "0.78125\n",
            "0.6875\n",
            "0.875\n",
            "0.6875\n",
            "0.78125\n",
            "0.78125\n",
            "0.65625\n",
            "0.84375\n",
            "0.71875\n",
            "0.65625\n",
            "0.78125\n",
            "0.71875\n",
            "0.75\n",
            "0.71875\n",
            "0.84375\n",
            "0.75\n",
            "0.7857142857142857\n"
          ]
        }
      ]
    }
  ]
}